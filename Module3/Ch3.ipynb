{
 "cells": [
  {
   "cell_type": "markdown",
   "metadata": {},
   "source": [
    "# Implementing a transformer with PyTorch"
   ]
  },
  {
   "cell_type": "code",
   "execution_count": 1,
   "metadata": {},
   "outputs": [],
   "source": [
    "from transformers import BertTokenizer, BertModel"
   ]
  },
  {
   "cell_type": "code",
   "execution_count": 2,
   "metadata": {},
   "outputs": [
    {
     "name": "stderr",
     "output_type": "stream",
     "text": [
      "/Users/brncat/anaconda3/lib/python3.11/site-packages/huggingface_hub/file_download.py:1150: FutureWarning: `resume_download` is deprecated and will be removed in version 1.0.0. Downloads always resume when possible. If you want to force a new download, use `force_download=True`.\n",
      "  warnings.warn(\n"
     ]
    }
   ],
   "source": [
    "text = \"time flies like an arrow\"\n",
    "\n",
    "model_ckp = \"bert-base-uncased\"\n",
    "model = BertModel.from_pretrained(model_ckp)\n",
    "tokenizer = BertTokenizer.from_pretrained(model_ckp)"
   ]
  },
  {
   "cell_type": "code",
   "execution_count": 3,
   "metadata": {},
   "outputs": [
    {
     "name": "stdout",
     "output_type": "stream",
     "text": [
      "{'input_ids': tensor([[ 2051, 10029,  2066,  2019,  8612]]), 'token_type_ids': tensor([[0, 0, 0, 0, 0]]), 'attention_mask': tensor([[1, 1, 1, 1, 1]])}\n"
     ]
    }
   ],
   "source": [
    "inputs = tokenizer(text, return_tensors=\"pt\", add_special_tokens=False)\n",
    "\n",
    "print(inputs)"
   ]
  },
  {
   "cell_type": "code",
   "execution_count": 4,
   "metadata": {},
   "outputs": [
    {
     "name": "stdout",
     "output_type": "stream",
     "text": [
      "Embedding(30522, 768)\n"
     ]
    }
   ],
   "source": [
    "from torch import nn\n",
    "import torch\n",
    "from transformers import AutoConfig\n",
    "\n",
    "config = AutoConfig.from_pretrained(model_ckp)\n",
    "\n",
    "token_emb = nn.Embedding(config.vocab_size, config.hidden_size)\n",
    "\n",
    "print(token_emb)"
   ]
  },
  {
   "cell_type": "markdown",
   "metadata": {},
   "source": [
    "Now we can generate the embeddings by feeding in the inputs"
   ]
  },
  {
   "cell_type": "code",
   "execution_count": 5,
   "metadata": {},
   "outputs": [
    {
     "name": "stdout",
     "output_type": "stream",
     "text": [
      "tensor([[[ 0.6357, -0.0930,  0.0498,  ...,  0.9247, -0.3052,  0.8459],\n",
      "         [ 0.1574, -1.2528, -1.2385,  ...,  1.2992, -1.3885, -0.0211],\n",
      "         [ 0.3887, -1.6999, -0.6388,  ..., -0.2164, -1.1877,  0.6342],\n",
      "         [-0.2313, -0.8173, -0.1961,  ...,  1.5486,  2.0778,  0.8052],\n",
      "         [-0.8103, -0.8753,  2.0898,  ...,  0.4974,  0.3398, -1.2624]]],\n",
      "       grad_fn=<EmbeddingBackward0>)\n",
      "torch.Size([1, 5, 768])\n"
     ]
    }
   ],
   "source": [
    "inputs_embeds = token_emb(inputs[\"input_ids\"])\n",
    "\n",
    "print(inputs_embeds)\n",
    "print(inputs_embeds.size())"
   ]
  },
  {
   "cell_type": "markdown",
   "metadata": {},
   "source": [
    "This has given us a tensor of shape `[batch_size, seq_len, hidden_dim]`"
   ]
  },
  {
   "cell_type": "markdown",
   "metadata": {},
   "source": [
    "## The attention block"
   ]
  },
  {
   "cell_type": "code",
   "execution_count": 6,
   "metadata": {},
   "outputs": [
    {
     "name": "stdout",
     "output_type": "stream",
     "text": [
      "torch.Size([1, 5, 768]) 768\n",
      "tensor([[[26.6332,  0.9239, -1.6107,  0.9351, -1.5695],\n",
      "         [ 0.9239, 27.2575, -1.3069,  0.8039,  1.2502],\n",
      "         [-1.6107, -1.3069, 29.9443, -1.6849,  1.5230],\n",
      "         [ 0.9351,  0.8039, -1.6849, 31.1858, -0.7020],\n",
      "         [-1.5695,  1.2502,  1.5230, -0.7020, 26.9231]]],\n",
      "       grad_fn=<DivBackward0>)\n",
      "torch.Size([1, 5, 768]) torch.Size([1, 768, 5]) torch.Size([1, 5, 5])\n"
     ]
    }
   ],
   "source": [
    "from math import sqrt\n",
    "\n",
    "query = key = value = inputs_embeds\n",
    "\n",
    "dim_k = key.size(-1)\n",
    "print(key.shape, dim_k)\n",
    "\n",
    "scores = torch.matmul(query, key.transpose(1, 2)) / sqrt(dim_k)\n",
    "\n",
    "print(scores)\n",
    "print(query.size(), key.transpose(1, 2).size(), scores.size())"
   ]
  },
  {
   "cell_type": "markdown",
   "metadata": {},
   "source": [
    "Let us now apply the softmax"
   ]
  },
  {
   "cell_type": "code",
   "execution_count": 15,
   "metadata": {},
   "outputs": [
    {
     "name": "stdout",
     "output_type": "stream",
     "text": [
      "torch.Size([1, 5, 5])\n",
      "tensor([[1., 1., 1., 1., 1.]], grad_fn=<SumBackward1>)\n"
     ]
    }
   ],
   "source": [
    "import torch.nn.functional as F\n",
    "\n",
    "weights = F.softmax(scores, dim=-1)\n",
    "\n",
    "print(weights.shape)\n",
    "print(weights.sum(dim=-1))"
   ]
  },
  {
   "cell_type": "code",
   "execution_count": 8,
   "metadata": {},
   "outputs": [
    {
     "name": "stdout",
     "output_type": "stream",
     "text": [
      "torch.Size([1, 5, 768])\n"
     ]
    }
   ],
   "source": [
    "# the next step is to multiply the weights with the values\n",
    "\n",
    "attn_output = torch.matmul(weights, value)\n",
    "\n",
    "print(attn_output.size())"
   ]
  },
  {
   "cell_type": "markdown",
   "metadata": {},
   "source": [
    "Let's wrap these steps into a function"
   ]
  },
  {
   "cell_type": "code",
   "execution_count": 9,
   "metadata": {},
   "outputs": [],
   "source": [
    "def scaled_dot_product_attention(query, key, value):\n",
    "    dim_k = key.size(-1)\n",
    "    scores = torch.matmul(query, key.transpose(1, 2)) / sqrt(dim_k)\n",
    "    weights = F.softmax(scores, dim=-1)\n",
    "    return torch.matmul(weights, value)"
   ]
  },
  {
   "cell_type": "code",
   "execution_count": 10,
   "metadata": {},
   "outputs": [
    {
     "name": "stdout",
     "output_type": "stream",
     "text": [
      "torch.Size([5, 128, 30])\n",
      "torch.Size([30, 20])\n"
     ]
    }
   ],
   "source": [
    "m = nn.Linear(20,30)\n",
    "input = torch.randn(5,128, 20)\n",
    "output = m(input)\n",
    "print(output.size())\n",
    "print(m.weight.size())\n"
   ]
  },
  {
   "cell_type": "markdown",
   "metadata": {},
   "source": [
    "## Let us now implement the multi head of attention"
   ]
  },
  {
   "cell_type": "markdown",
   "metadata": {},
   "source": [
    "we start by implementing a single attention head"
   ]
  },
  {
   "cell_type": "code",
   "execution_count": 11,
   "metadata": {},
   "outputs": [],
   "source": [
    "class AttentionHead(nn.Module):\n",
    "    def __init__(self, embed_dim, head_dim):\n",
    "        super().__init__()\n",
    "        self.q = nn.Linear(embed_dim, head_dim)\n",
    "        self.k = nn.Linear(embed_dim, head_dim)\n",
    "        self.v = nn.Linear(embed_dim, head_dim)\n",
    "\n",
    "    def forward(self, hidden_states):\n",
    "        attn_outputs = scaled_dot_product_attention(\n",
    "            self.q(hidden_states), \n",
    "            self.k(hidden_states), \n",
    "            self.v(hidden_states)\n",
    "            )\n",
    "        return attn_outputs"
   ]
  },
  {
   "cell_type": "code",
   "execution_count": 12,
   "metadata": {},
   "outputs": [],
   "source": [
    "class MultiHeadAttention(nn.Module):\n",
    "    def __init__(self, config):\n",
    "        super().__init__()\n",
    "        embed_dim = config.hidden_size\n",
    "        num_heads = config.num_attention_heads\n",
    "        head_dim = embed_dim // num_heads\n",
    "        self.heads = nn.ModuleList([\n",
    "            AttentionHead(embed_dim, head_dim) for _ in range(num_heads)\n",
    "        ])\n",
    "        self.linear = nn.Linear(embed_dim, embed_dim)\n",
    "\n",
    "    def forward(self, hidden_states):\n",
    "        x = torch.cat([head(hidden_states) for head in self.heads], dim=-1)\n",
    "        return self.linear(x)"
   ]
  },
  {
   "cell_type": "code",
   "execution_count": 14,
   "metadata": {},
   "outputs": [
    {
     "name": "stdout",
     "output_type": "stream",
     "text": [
      "torch.Size([1, 5, 768])\n"
     ]
    }
   ],
   "source": [
    "# Let us check the output size of the multihead attention\n",
    "\n",
    "multihead_attn = MultiHeadAttention(config)\n",
    "output = multihead_attn(inputs_embeds)\n",
    "print(output.size())"
   ]
  },
  {
   "cell_type": "code",
   "execution_count": 17,
   "metadata": {},
   "outputs": [
    {
     "data": {
      "text/plain": [
       "torch.Size([1, 5, 768])"
      ]
     },
     "execution_count": 17,
     "metadata": {},
     "output_type": "execute_result"
    }
   ],
   "source": [
    "inputs_embeds.size()"
   ]
  },
  {
   "cell_type": "markdown",
   "metadata": {},
   "source": [
    "## The Feed-Forward Layer"
   ]
  },
  {
   "cell_type": "code",
   "execution_count": 18,
   "metadata": {},
   "outputs": [],
   "source": [
    "class FeedForward(nn.Module):\n",
    "    def __init__(self, config):\n",
    "        super().__init__()\n",
    "        self.linear1 = nn.Linear(config.hidden_size, config.intermediate_size)\n",
    "        self.activation = nn.GELU()\n",
    "        self.linear2 = nn.Linear(config.intermediate_size, config.hidden_size)\n",
    "        self.dropout = nn.Dropout(config.hidden_dropout_prob)\n",
    "\n",
    "    def forward(self, hidden_states):\n",
    "        x = self.linear1(hidden_states)\n",
    "        x = self.activation(x)\n",
    "        x = self.linear2(x)\n",
    "        x = self.dropout(x)\n",
    "        \n",
    "        return x"
   ]
  },
  {
   "cell_type": "code",
   "execution_count": 21,
   "metadata": {},
   "outputs": [
    {
     "name": "stdout",
     "output_type": "stream",
     "text": [
      "torch.Size([1, 5, 768])\n",
      "768 3072 0.1\n"
     ]
    }
   ],
   "source": [
    "# Let us test this by passing the attention output\n",
    "\n",
    "feed_forward = FeedForward(config)\n",
    "ff_output = feed_forward(output)\n",
    "print(ff_output.size())\n",
    "\n",
    "print(config.hidden_size, config.intermediate_size, config.hidden_dropout_prob)"
   ]
  },
  {
   "cell_type": "markdown",
   "metadata": {},
   "source": [
    "## Adding Layer Normalization"
   ]
  },
  {
   "cell_type": "code",
   "execution_count": 22,
   "metadata": {},
   "outputs": [],
   "source": [
    "class TransformerEncoderLayer(nn.Module):\n",
    "    def __init__(self, config):\n",
    "        super().__init__()\n",
    "        self.self_attn = MultiHeadAttention(config)\n",
    "        self.feed_forward = FeedForward(config)\n",
    "        self.layer_norm1 = nn.LayerNorm(config.hidden_size)\n",
    "        self.layer_norm2 = nn.LayerNorm(config.hidden_size)\n",
    "\n",
    "    def forward(self, x):\n",
    "        # Apply layer normalization and then copy input into self-attention\n",
    "        hidden_state = self.layer_norm1(x)\n",
    "        # Apply multi-head attention with skip connection\n",
    "        x += self.self_attn(hidden_state)\n",
    "        # Apply feed forward \n",
    "        x += self.feed_forward(self.layer_norm2(x))\n",
    "        \n",
    "        return x"
   ]
  },
  {
   "cell_type": "code",
   "execution_count": 23,
   "metadata": {},
   "outputs": [
    {
     "name": "stdout",
     "output_type": "stream",
     "text": [
      "torch.Size([1, 5, 768]) torch.Size([1, 5, 768])\n"
     ]
    }
   ],
   "source": [
    "encoder_layer = TransformerEncoderLayer(config)\n",
    "print(inputs_embeds.size(), encoder_layer(inputs_embeds).size() )"
   ]
  },
  {
   "cell_type": "code",
   "execution_count": null,
   "metadata": {},
   "outputs": [],
   "source": []
  }
 ],
 "metadata": {
  "kernelspec": {
   "display_name": "base",
   "language": "python",
   "name": "python3"
  },
  "language_info": {
   "codemirror_mode": {
    "name": "ipython",
    "version": 3
   },
   "file_extension": ".py",
   "mimetype": "text/x-python",
   "name": "python",
   "nbconvert_exporter": "python",
   "pygments_lexer": "ipython3",
   "version": "3.11.9"
  }
 },
 "nbformat": 4,
 "nbformat_minor": 2
}
